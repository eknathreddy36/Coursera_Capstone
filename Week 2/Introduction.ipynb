{
 "cells": [
  {
   "cell_type": "markdown",
   "metadata": {},
   "source": [
    "# Introduction/Business Problem for the Project"
   ]
  },
  {
   "cell_type": "markdown",
   "metadata": {},
   "source": [
    "In today's world, we travel atleast once a day to reach a certain destination, be it a school,college,office or anywhere. This shows how regularly people commute to differnet places. Though there are many rules and protocols to be followed while travelling on a road, there are always some accidents. These accidents have a serious impact on people's lives. \n",
    "\n",
    "Hence, using different Data Science techniques on the data available, we can analyse the accidents and predict the severity of each accident in a such a way that necessary precautions can be taken by the City Road Department and the common folk.\n",
    "\n",
    "The main focus of this project is to predict the severity of an road accident. The predictions and results gained through this capstone project can be used by the Government in order to find out ways to keep the number of accidents to the minimum. Hence, a clear, accurate and detailed analysis will be the goal of my project.\n",
    "\n",
    "\n"
   ]
  }
 ],
 "metadata": {
  "kernelspec": {
   "display_name": "Python 3",
   "language": "python",
   "name": "python3"
  },
  "language_info": {
   "codemirror_mode": {
    "name": "ipython",
    "version": 3
   },
   "file_extension": ".py",
   "mimetype": "text/x-python",
   "name": "python",
   "nbconvert_exporter": "python",
   "pygments_lexer": "ipython3",
   "version": "3.7.3"
  }
 },
 "nbformat": 4,
 "nbformat_minor": 4
}
