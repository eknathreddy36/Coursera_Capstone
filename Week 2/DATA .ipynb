{
 "cells": [
  {
   "cell_type": "markdown",
   "metadata": {},
   "source": [
    "# Understanding the Data involved"
   ]
  },
  {
   "cell_type": "markdown",
   "metadata": {},
   "source": [
    "The Dataset being used in this project is from the Seattle Traffic Department, which is based on the collisons occured in the city of Seattle. \n",
    "\n",
    "The Data is recorded from 2004 to May-2020\n",
    "\n",
    "The Dataset includes 194,673 samples and 37 attributes\n",
    "\n",
    "The attributes included are Severity of collision, Weather Condition, No. of People involved, Road Condition, Location, Report number etc.\n",
    "\n",
    "There are also many empty entries in the Dataset.\n",
    "\n",
    "In the next phase of the project, which is Data Cleaning, all the irrelevant data columns will be dropped and the relevant ones will be modified in way that would benefit the model."
   ]
  }
 ],
 "metadata": {
  "kernelspec": {
   "display_name": "Python 3",
   "language": "python",
   "name": "python3"
  },
  "language_info": {
   "codemirror_mode": {
    "name": "ipython",
    "version": 3
   },
   "file_extension": ".py",
   "mimetype": "text/x-python",
   "name": "python",
   "nbconvert_exporter": "python",
   "pygments_lexer": "ipython3",
   "version": "3.7.3"
  }
 },
 "nbformat": 4,
 "nbformat_minor": 4
}
